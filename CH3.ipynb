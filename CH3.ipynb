{
    "cells": [
        {
            "cell_type": "markdown",
            "metadata": {},
            "source": [
                "# HW 3.1  "
            ]
        },
        {
            "cell_type": "code",
            "execution_count": 10,
            "metadata": {},
            "outputs": [],
            "source": [
                "import torch.nn as nn\n",
                "import torch\n",
                "\n",
                "\n",
                "\n",
                "inputs = torch.tensor(\n",
                "    [[0.43, 0.15, 0.89],\n",
                "     [0.55, 0.87, 0.66],\n",
                "     [0.57, 0.85, 0.64],\n",
                "     [0.22, 0.58, 0.33],\n",
                "     [0.77, 0.25, 0.10],\n",
                "     [0.05, 0.80, 0.55]]\n",
                "    )\n",
                "d_in = inputs.shape[1]\n",
                "d_out = 2\n"
            ]
        },
        {
            "cell_type": "code",
            "execution_count": 11,
            "metadata": {},
            "outputs": [],
            "source": [
                "class SelfAttention_v1(nn.Module):\n",
                "    def __init__(self, d_in, d_out, qkv_bias=False):\n",
                "        super().__init__()\n",
                "        self.d_out = d_out\n",
                "        self.w_query = nn.Parameter(torch.rand(d_in, d_out))\n",
                "        self.w_key = nn.Parameter(torch.rand(d_in, d_out))\n",
                "        self.w_value = nn.Parameter(torch.rand(d_in, d_out))\n",
                "\n",
                "    def forward(self, x):\n",
                "        keys = x @ self.w_key\n",
                "        queries = x @ self.w_query\n",
                "        values = x @ self.w_value\n",
                "        atten_score = queries @ keys.T\n",
                "        atten_weight = torch.softmax( atten_score / keys.shape[-1]**0.5, dim = -1)\n",
                "        context_vactor = atten_weight @ values\n",
                "        return context_vactor\n",
                "\n",
                "\n",
                "\n",
                "\n",
                "\n",
                "class SelfAttention_v2(nn.Module):\n",
                "    def __init__(self, d_in, d_out, qkv_bias=False):\n",
                "        super().__init__()\n",
                "        self.d_out = d_out\n",
                "        self.w_query = nn.Linear(d_in, d_out, bias=qkv_bias)\n",
                "        self.w_key = nn.Linear(d_in, d_out, bias=qkv_bias)\n",
                "        self.w_value = nn.Linear(d_in, d_out, bias=qkv_bias)\n",
                "\n",
                "    def forward(self, x):\n",
                "        keys = self.w_key(x)\n",
                "        queries = self.w_query(x)\n",
                "        values = self.w_value(x)\n",
                "        atten_score = queries @ keys.T\n",
                "        atten_weight = torch.softmax( atten_score / keys.shape[-1]**0.5, dim = 1)\n",
                "        context_vactor = atten_weight @ values\n",
                "        return context_vactor\n"
            ]
        },
        {
            "cell_type": "code",
            "execution_count": 12,
            "metadata": {},
            "outputs": [],
            "source": [
                "torch.manual_seed(123)\n",
                "sa_v1 = SelfAttention_v1(d_in, d_out)\n",
                "sa_v2 = SelfAttention_v2(d_in, d_out)"
            ]
        },
        {
            "cell_type": "code",
            "execution_count": 13,
            "metadata": {},
            "outputs": [
                {
                    "data": {
                        "text/plain": [
                            "tensor([[0.5085, 0.3508],\n",
                            "        [0.5084, 0.3508],\n",
                            "        [0.5084, 0.3506],\n",
                            "        [0.5074, 0.3471],\n",
                            "        [0.5076, 0.3446],\n",
                            "        [0.5077, 0.3493]], grad_fn=<MmBackward0>)"
                        ]
                    },
                    "execution_count": 13,
                    "metadata": {},
                    "output_type": "execute_result"
                }
            ],
            "source": [
                "sa_v2(inputs)\n"
            ]
        },
        {
            "cell_type": "code",
            "execution_count": 14,
            "metadata": {},
            "outputs": [
                {
                    "data": {
                        "text/plain": [
                            "tensor([[0.5085, 0.3508],\n",
                            "        [0.5084, 0.3508],\n",
                            "        [0.5084, 0.3506],\n",
                            "        [0.5074, 0.3471],\n",
                            "        [0.5076, 0.3446],\n",
                            "        [0.5077, 0.3493]], grad_fn=<MmBackward0>)"
                        ]
                    },
                    "execution_count": 14,
                    "metadata": {},
                    "output_type": "execute_result"
                }
            ],
            "source": [
                "sa_v1.w_key = nn.Parameter(sa_v2.w_key.weight.T)\n",
                "sa_v1.w_query = nn.Parameter(sa_v2.w_query.weight.T)\n",
                "sa_v1.w_value = nn.Parameter(sa_v2.w_value.weight.T)\n",
                "\n",
                "sa_v1(inputs)\n"
            ]
        },
        {
            "cell_type": "markdown",
            "metadata": {},
            "source": [
                ".weight 是 nn.Linear 這類層中儲存權重參數的屬性。  \n",
                "sa_v2.W_query.weight 時，你其實是取出 W_query 這個線性層（通常是 nn.Linear）裡的核心參數矩陣，也就是那個負責將輸入張量做線性轉換的矩陣。"
            ]
        },
        {
            "cell_type": "markdown",
            "metadata": {},
            "source": [
                "# HW3.2  "
            ]
        },
        {
            "cell_type": "code",
            "execution_count": 15,
            "metadata": {},
            "outputs": [],
            "source": [
                "class CausalAttention(nn.Module):\n",
                "    def __init__(self, d_in, d_out, context_length, dropout, qkv_bias=False):\n",
                "        super().__init__()\n",
                "        self.d_out = d_out\n",
                "        self.w_query = nn.Linear(d_in, d_out, bias=qkv_bias)\n",
                "        self.w_key = nn.Linear(d_in, d_out, bias=qkv_bias)\n",
                "        self.w_value = nn.Linear(d_in, d_out, bias=qkv_bias)\n",
                "        self.dropout = nn.Dropout(dropout)\n",
                "        self.register_buffer('mask', torch.triu(torch.ones(context_length, context_length), diagonal=1))\n",
                "    def forward(self, x):\n",
                "        b, num_tokens, d_in = x.shape\n",
                "        keys = self.w_key(x)\n",
                "        queries = self.w_query(x)\n",
                "        values = self.w_value(x)\n",
                "\n",
                "        attn_scores = queries @ keys.transpose(1,2)\n",
                "        attn_scores.masked_fill_(\n",
                "            self.mask.bool()[:num_tokens, :num_tokens], -torch.inf)\n",
                "        attn_weights = torch.softmax(attn_scores/ keys.shape[-1]**0.5, dim=-1)\n",
                "        attn_weights = self.dropout(attn_weights)\n",
                "\n",
                "        context_vec = attn_weights @ values\n",
                "        return context_vec\n",
                "\n",
                "        "
            ]
        },
        {
            "cell_type": "code",
            "execution_count": 24,
            "metadata": {},
            "outputs": [],
            "source": [
                "\n",
                "\n",
                "class MultiHeadAttentionWrapper(nn.Module):\n",
                "    def __init__(self, d_in, d_out, context_lenght, dropout, num_heads, qkv_bias=False):\n",
                "        super().__init__()\n",
                "        self.heads = nn.ModuleList(\n",
                "            [CausalAttention(d_in, d_out, context_lenght, dropout, qkv_bias)\n",
                "             for _ in range(num_heads)]\n",
                "        )\n",
                "\n",
                "    def forward(self, x):\n",
                "        return torch.cat([head(x) for head in self.heads], dim=-1)\n",
                "    "
            ]
        },
        {
            "cell_type": "markdown",
            "metadata": {},
            "source": [
                "### d_in指輸入一次數據的維度>> 3, d_out指輸出一次數據的維度 >>1, context_vec的維度取決d_out x num_heads=2 >> 1x2 =2"
            ]
        },
        {
            "cell_type": "code",
            "execution_count": null,
            "metadata": {},
            "outputs": [
                {
                    "name": "stdout",
                    "output_type": "stream",
                    "text": [
                        "tensor([[[0.4300, 0.1500, 0.8900],\n",
                        "         [0.5500, 0.8700, 0.6600],\n",
                        "         [0.5700, 0.8500, 0.6400],\n",
                        "         [0.2200, 0.5800, 0.3300],\n",
                        "         [0.7700, 0.2500, 0.1000],\n",
                        "         [0.0500, 0.8000, 0.5500]],\n",
                        "\n",
                        "        [[0.4300, 0.1500, 0.8900],\n",
                        "         [0.5500, 0.8700, 0.6600],\n",
                        "         [0.5700, 0.8500, 0.6400],\n",
                        "         [0.2200, 0.5800, 0.3300],\n",
                        "         [0.7700, 0.2500, 0.1000],\n",
                        "         [0.0500, 0.8000, 0.5500]]])\n",
                        "6 torch.Size([2, 6, 3])\n",
                        "tensor([[[-0.5740,  0.2216],\n",
                        "         [-0.7320,  0.0155],\n",
                        "         [-0.7774, -0.0546],\n",
                        "         [-0.6979, -0.0817],\n",
                        "         [-0.6538, -0.0957],\n",
                        "         [-0.6424, -0.1065]],\n",
                        "\n",
                        "        [[-0.5740,  0.2216],\n",
                        "         [-0.7320,  0.0155],\n",
                        "         [-0.7774, -0.0546],\n",
                        "         [-0.6979, -0.0817],\n",
                        "         [-0.6538, -0.0957],\n",
                        "         [-0.6424, -0.1065]]], grad_fn=<CatBackward0>) torch.Size([2, 6, 2])\n"
                    ]
                }
            ],
            "source": [
                "torch.manual_seed(123)\n",
                "batch = torch.stack((inputs, inputs), dim = 0) # 要注意\n",
                "print(batch)\n",
                "context_lenght = batch.shape[1]\n",
                "print(context_lenght, batch.shape)\n",
                "# context_lenght = 6\n",
                "d_in, d_out = 3, 1 ### this\n",
                "mha = MultiHeadAttentionWrapper(d_in, d_out, context_lenght, 0.0, num_heads=2)\n",
                "context_vec = mha(batch)\n",
                "\n",
                "print(context_vec, context_vec.shape)\n",
                "\n"
            ]
        },
        {
            "cell_type": "code",
            "execution_count": 58,
            "metadata": {},
            "outputs": [],
            "source": [
                "# Real MHA \n",
                "class MultiHeadAttention(nn.Module):\n",
                "    def __init__(self, d_in, d_out, context_length, dropout, num_heads, qkv_bias = False):\n",
                "        super().__init__()\n",
                "        assert d_out % num_heads == 0, \"d_out must be divisible by nim_heads\"\n",
                "\n",
                "        self.d_out = d_out\n",
                "        self.num_heads = num_heads\n",
                "        self.head_dim = d_out//num_heads\n",
                "        self.w_query = nn.Linear(d_in, d_out, bias=qkv_bias)\n",
                "        self.w_key = nn.Linear(d_in, d_out, bias=qkv_bias)\n",
                "        self.w_value = nn.Linear(d_in, d_out, bias=qkv_bias)\n",
                "        self.out_proj = nn.Linear(d_out, d_out)\n",
                "        self.dropout = nn.Dropout(dropout)\n",
                "        self.register_buffer('mask', torch.triu(torch.ones(context_length, context_length), diagonal=1))\n",
                "\n",
                "    def forward(self, x):\n",
                "        b, num_tokens, d_in = x.shape\n",
                "        keys = self.w_key(x)\n",
                "        queries = self.w_query(x)\n",
                "        values = self.w_value(x)\n",
                "\n",
                "        keys = keys.view(b, num_tokens, self.num_heads, self.head_dim)\n",
                "        values = values.view(b, num_tokens, self.num_heads, self.head_dim)\n",
                "        queries = queries.view(b, num_tokens, self.num_heads, self.head_dim)\n",
                "\n",
                "        keys = keys.transpose(1,2)\n",
                "        values = values.transpose(1,2)\n",
                "        queries = queries.transpose(1,2)\n",
                "\n",
                "        attn_scores = queries @ keys.transpose(2,3)\n",
                "        mask_bool= self.mask.bool() [:num_tokens, :num_tokens]\n",
                "        attn_scores.masked_fill_(mask_bool, -torch.inf)\n",
                "\n",
                "        attn_weights = torch.softmax(attn_scores/ keys.shape[-1]**0.5, dim=-1)\n",
                "        attn_weights = self.dropout(attn_weights)\n",
                "\n",
                "        context_vec = (attn_weights @ values).transpose(1,2)\n",
                "        context_vec = context_vec.contiguous().view(b,num_tokens, self.d_out)\n",
                "        context_vec = self.out_proj(context_vec)\n",
                "        return context_vec\n"
            ]
        },
        {
            "cell_type": "code",
            "execution_count": 72,
            "metadata": {},
            "outputs": [
                {
                    "name": "stdout",
                    "output_type": "stream",
                    "text": [
                        "torch.Size([2, 6, 3])\n",
                        "tensor([[[0.3190, 0.4858],\n",
                        "         [0.2943, 0.3897],\n",
                        "         [0.2856, 0.3593],\n",
                        "         [0.2693, 0.3873],\n",
                        "         [0.2639, 0.3928],\n",
                        "         [0.2575, 0.4028]],\n",
                        "\n",
                        "        [[0.3190, 0.4858],\n",
                        "         [0.2943, 0.3897],\n",
                        "         [0.2856, 0.3593],\n",
                        "         [0.2693, 0.3873],\n",
                        "         [0.2639, 0.3928],\n",
                        "         [0.2575, 0.4028]]], grad_fn=<ViewBackward0>) torch.Size([2, 6, 2])\n"
                    ]
                }
            ],
            "source": [
                "inputs = torch.tensor(\n",
                "    [[0.43, 0.15, 0.89],\n",
                "     [0.55, 0.87, 0.66],\n",
                "     [0.57, 0.85, 0.64],\n",
                "     [0.22, 0.58, 0.33],\n",
                "     [0.77, 0.25, 0.10],\n",
                "     [0.05, 0.80, 0.55]]\n",
                "    )\n",
                "\n",
                "torch.manual_seed(123)\n",
                "batch = torch.stack((inputs, inputs), dim = 0) # 要注意\n",
                "batch_size, context_lenght, d_in = batch.shape # torch.Size([2, 6, 3])\n",
                "print(batch.shape)\n",
                "d_out = 2 ### this\n",
                "mha = MultiHeadAttention(d_in, d_out, context_lenght, 0.0, num_heads=2)\n",
                "context_vec = mha(batch)\n",
                "\n",
                "print(context_vec, context_vec.shape)"
            ]
        },
        {
            "cell_type": "markdown",
            "metadata": {},
            "source": [
                "# HW3.3"
            ]
        },
        {
            "cell_type": "code",
            "execution_count": 70,
            "metadata": {},
            "outputs": [
                {
                    "name": "stdout",
                    "output_type": "stream",
                    "text": [
                        "torch.Size([4, 1024, 768])\n",
                        "torch.Size([1024, 768])\n",
                        "torch.Size([4, 1024, 768])\n"
                    ]
                }
            ],
            "source": [
                "import torch\n",
                "from torch.utils.data import Dataset, DataLoader\n",
                "import tiktoken as tken\n",
                "\n",
                "\n",
                "class GPTDataset_v1(Dataset):\n",
                "    def __init__(self, text, tokenizer, max_length, stride):\n",
                "        self.input_ids = []\n",
                "        self.targeet_ids = []\n",
                "        token_ids = tokenizer.encode(text)\n",
                "\n",
                "        for i in range(0, len(token_ids)-max_length, stride):\n",
                "            input_chunk = token_ids[i:i+max_length]\n",
                "            target_chunk = token_ids[i+1:i+1+max_length] \n",
                "            self.input_ids.append(torch.tensor(input_chunk))\n",
                "            self.targeet_ids.append(torch.tensor(target_chunk))\n",
                "\n",
                "    def __len__(self):\n",
                "        return len(self.input_ids)\n",
                "    \n",
                "    def __getitem__(self, index):   # 輸入指定位置的資料時，回傳相應的input與target\n",
                "        return self.input_ids[index], self.targeet_ids[index]\n",
                "    \n",
                "\n",
                "def crate_dataloader_v1(text, batch_size=4, max_length=1024, stride=1024, shuffle=True, drop_last=True, num_workers=0):\n",
                "    tokenizer = tken.get_encoding(\"gpt2\")\n",
                "    dataset = GPTDataset_v1(text, tokenizer, max_length, stride)\n",
                "    dataloader = DataLoader(\n",
                "        dataset, batch_size=batch_size, shuffle=shuffle, drop_last=drop_last, num_workers=0\n",
                "        )\n",
                "    return dataloader\n",
                "with open(\"the-verdict.txt\", \"r\", encoding=\"utf-8\") as f:\n",
                "    raw_text=f.read()\n",
                "\n",
                "dataloader = crate_dataloader_v1(raw_text, batch_size=4, max_length=1024, stride=1024, shuffle=False)\n",
                "data_iter= iter(dataloader)\n",
                "inputs, targets = next(data_iter)\n",
                "\n",
                "vocab_size = 50257\n",
                "output_dim =768\n",
                "torch.manual_seed(123)\n",
                "\n",
                "token_embedding_layer = torch.nn.Embedding(vocab_size, output_dim) #初始化設定embedding layer\n",
                "token_embeddings = token_embedding_layer(inputs) #輸入需嵌入的資料\n",
                "print(token_embeddings.shape)\n",
                "\n",
                "max_length = 1024\n",
                "context_length = max_length\n",
                "pos_embedding_layer = torch.nn.Embedding(context_length, output_dim)\n",
                "pos_embeddings = pos_embedding_layer(torch.arange(context_length))\n",
                "print(pos_embeddings.shape)\n",
                "\n",
                "input_embeddings = token_embeddings + pos_embeddings\n",
                "print(input_embeddings.shape)"
            ]
        },
        {
            "cell_type": "code",
            "execution_count": 76,
            "metadata": {},
            "outputs": [
                {
                    "name": "stdout",
                    "output_type": "stream",
                    "text": [
                        "torch.Size([4, 1024, 768]) 12\n"
                    ]
                },
                {
                    "ename": "RuntimeError",
                    "evalue": "mat1 and mat2 shapes cannot be multiplied (12x3 and 768x768)",
                    "output_type": "error",
                    "traceback": [
                        "\u001b[1;31m---------------------------------------------------------------------------\u001b[0m",
                        "\u001b[1;31mRuntimeError\u001b[0m                              Traceback (most recent call last)",
                        "Cell \u001b[1;32mIn[76], line 6\u001b[0m\n\u001b[0;32m      4\u001b[0m \u001b[38;5;28mprint\u001b[39m(input_embeddings\u001b[38;5;241m.\u001b[39mshape, num_heads)\n\u001b[0;32m      5\u001b[0m mha \u001b[38;5;241m=\u001b[39m MultiHeadAttention(d_in, d_out, context_lenght, \u001b[38;5;241m0.0\u001b[39m, num_heads)\n\u001b[1;32m----> 6\u001b[0m context_vec \u001b[38;5;241m=\u001b[39m \u001b[43mmha\u001b[49m\u001b[43m(\u001b[49m\u001b[43mbatch\u001b[49m\u001b[43m)\u001b[49m\n\u001b[0;32m      8\u001b[0m \u001b[38;5;28mprint\u001b[39m(context_vec, context_vec\u001b[38;5;241m.\u001b[39mshape)\n",
                        "File \u001b[1;32mc:\\Users\\user\\.conda\\envs\\LLM\\lib\\site-packages\\torch\\nn\\modules\\module.py:1553\u001b[0m, in \u001b[0;36mModule._wrapped_call_impl\u001b[1;34m(self, *args, **kwargs)\u001b[0m\n\u001b[0;32m   1551\u001b[0m     \u001b[38;5;28;01mreturn\u001b[39;00m \u001b[38;5;28mself\u001b[39m\u001b[38;5;241m.\u001b[39m_compiled_call_impl(\u001b[38;5;241m*\u001b[39margs, \u001b[38;5;241m*\u001b[39m\u001b[38;5;241m*\u001b[39mkwargs)  \u001b[38;5;66;03m# type: ignore[misc]\u001b[39;00m\n\u001b[0;32m   1552\u001b[0m \u001b[38;5;28;01melse\u001b[39;00m:\n\u001b[1;32m-> 1553\u001b[0m     \u001b[38;5;28;01mreturn\u001b[39;00m \u001b[38;5;28mself\u001b[39m\u001b[38;5;241m.\u001b[39m_call_impl(\u001b[38;5;241m*\u001b[39margs, \u001b[38;5;241m*\u001b[39m\u001b[38;5;241m*\u001b[39mkwargs)\n",
                        "File \u001b[1;32mc:\\Users\\user\\.conda\\envs\\LLM\\lib\\site-packages\\torch\\nn\\modules\\module.py:1562\u001b[0m, in \u001b[0;36mModule._call_impl\u001b[1;34m(self, *args, **kwargs)\u001b[0m\n\u001b[0;32m   1557\u001b[0m \u001b[38;5;66;03m# If we don't have any hooks, we want to skip the rest of the logic in\u001b[39;00m\n\u001b[0;32m   1558\u001b[0m \u001b[38;5;66;03m# this function, and just call forward.\u001b[39;00m\n\u001b[0;32m   1559\u001b[0m \u001b[38;5;28;01mif\u001b[39;00m \u001b[38;5;129;01mnot\u001b[39;00m (\u001b[38;5;28mself\u001b[39m\u001b[38;5;241m.\u001b[39m_backward_hooks \u001b[38;5;129;01mor\u001b[39;00m \u001b[38;5;28mself\u001b[39m\u001b[38;5;241m.\u001b[39m_backward_pre_hooks \u001b[38;5;129;01mor\u001b[39;00m \u001b[38;5;28mself\u001b[39m\u001b[38;5;241m.\u001b[39m_forward_hooks \u001b[38;5;129;01mor\u001b[39;00m \u001b[38;5;28mself\u001b[39m\u001b[38;5;241m.\u001b[39m_forward_pre_hooks\n\u001b[0;32m   1560\u001b[0m         \u001b[38;5;129;01mor\u001b[39;00m _global_backward_pre_hooks \u001b[38;5;129;01mor\u001b[39;00m _global_backward_hooks\n\u001b[0;32m   1561\u001b[0m         \u001b[38;5;129;01mor\u001b[39;00m _global_forward_hooks \u001b[38;5;129;01mor\u001b[39;00m _global_forward_pre_hooks):\n\u001b[1;32m-> 1562\u001b[0m     \u001b[38;5;28;01mreturn\u001b[39;00m forward_call(\u001b[38;5;241m*\u001b[39margs, \u001b[38;5;241m*\u001b[39m\u001b[38;5;241m*\u001b[39mkwargs)\n\u001b[0;32m   1564\u001b[0m \u001b[38;5;28;01mtry\u001b[39;00m:\n\u001b[0;32m   1565\u001b[0m     result \u001b[38;5;241m=\u001b[39m \u001b[38;5;28;01mNone\u001b[39;00m\n",
                        "Cell \u001b[1;32mIn[58], line 19\u001b[0m, in \u001b[0;36mMultiHeadAttention.forward\u001b[1;34m(self, x)\u001b[0m\n\u001b[0;32m     17\u001b[0m \u001b[38;5;28;01mdef\u001b[39;00m\u001b[38;5;250m \u001b[39m\u001b[38;5;21mforward\u001b[39m(\u001b[38;5;28mself\u001b[39m, x):\n\u001b[0;32m     18\u001b[0m     b, num_tokens, d_in \u001b[38;5;241m=\u001b[39m x\u001b[38;5;241m.\u001b[39mshape\n\u001b[1;32m---> 19\u001b[0m     keys \u001b[38;5;241m=\u001b[39m \u001b[38;5;28;43mself\u001b[39;49m\u001b[38;5;241;43m.\u001b[39;49m\u001b[43mw_key\u001b[49m\u001b[43m(\u001b[49m\u001b[43mx\u001b[49m\u001b[43m)\u001b[49m\n\u001b[0;32m     20\u001b[0m     queries \u001b[38;5;241m=\u001b[39m \u001b[38;5;28mself\u001b[39m\u001b[38;5;241m.\u001b[39mw_query(x)\n\u001b[0;32m     21\u001b[0m     values \u001b[38;5;241m=\u001b[39m \u001b[38;5;28mself\u001b[39m\u001b[38;5;241m.\u001b[39mw_value(x)\n",
                        "File \u001b[1;32mc:\\Users\\user\\.conda\\envs\\LLM\\lib\\site-packages\\torch\\nn\\modules\\module.py:1553\u001b[0m, in \u001b[0;36mModule._wrapped_call_impl\u001b[1;34m(self, *args, **kwargs)\u001b[0m\n\u001b[0;32m   1551\u001b[0m     \u001b[38;5;28;01mreturn\u001b[39;00m \u001b[38;5;28mself\u001b[39m\u001b[38;5;241m.\u001b[39m_compiled_call_impl(\u001b[38;5;241m*\u001b[39margs, \u001b[38;5;241m*\u001b[39m\u001b[38;5;241m*\u001b[39mkwargs)  \u001b[38;5;66;03m# type: ignore[misc]\u001b[39;00m\n\u001b[0;32m   1552\u001b[0m \u001b[38;5;28;01melse\u001b[39;00m:\n\u001b[1;32m-> 1553\u001b[0m     \u001b[38;5;28;01mreturn\u001b[39;00m \u001b[38;5;28mself\u001b[39m\u001b[38;5;241m.\u001b[39m_call_impl(\u001b[38;5;241m*\u001b[39margs, \u001b[38;5;241m*\u001b[39m\u001b[38;5;241m*\u001b[39mkwargs)\n",
                        "File \u001b[1;32mc:\\Users\\user\\.conda\\envs\\LLM\\lib\\site-packages\\torch\\nn\\modules\\module.py:1562\u001b[0m, in \u001b[0;36mModule._call_impl\u001b[1;34m(self, *args, **kwargs)\u001b[0m\n\u001b[0;32m   1557\u001b[0m \u001b[38;5;66;03m# If we don't have any hooks, we want to skip the rest of the logic in\u001b[39;00m\n\u001b[0;32m   1558\u001b[0m \u001b[38;5;66;03m# this function, and just call forward.\u001b[39;00m\n\u001b[0;32m   1559\u001b[0m \u001b[38;5;28;01mif\u001b[39;00m \u001b[38;5;129;01mnot\u001b[39;00m (\u001b[38;5;28mself\u001b[39m\u001b[38;5;241m.\u001b[39m_backward_hooks \u001b[38;5;129;01mor\u001b[39;00m \u001b[38;5;28mself\u001b[39m\u001b[38;5;241m.\u001b[39m_backward_pre_hooks \u001b[38;5;129;01mor\u001b[39;00m \u001b[38;5;28mself\u001b[39m\u001b[38;5;241m.\u001b[39m_forward_hooks \u001b[38;5;129;01mor\u001b[39;00m \u001b[38;5;28mself\u001b[39m\u001b[38;5;241m.\u001b[39m_forward_pre_hooks\n\u001b[0;32m   1560\u001b[0m         \u001b[38;5;129;01mor\u001b[39;00m _global_backward_pre_hooks \u001b[38;5;129;01mor\u001b[39;00m _global_backward_hooks\n\u001b[0;32m   1561\u001b[0m         \u001b[38;5;129;01mor\u001b[39;00m _global_forward_hooks \u001b[38;5;129;01mor\u001b[39;00m _global_forward_pre_hooks):\n\u001b[1;32m-> 1562\u001b[0m     \u001b[38;5;28;01mreturn\u001b[39;00m forward_call(\u001b[38;5;241m*\u001b[39margs, \u001b[38;5;241m*\u001b[39m\u001b[38;5;241m*\u001b[39mkwargs)\n\u001b[0;32m   1564\u001b[0m \u001b[38;5;28;01mtry\u001b[39;00m:\n\u001b[0;32m   1565\u001b[0m     result \u001b[38;5;241m=\u001b[39m \u001b[38;5;28;01mNone\u001b[39;00m\n",
                        "File \u001b[1;32mc:\\Users\\user\\.conda\\envs\\LLM\\lib\\site-packages\\torch\\nn\\modules\\linear.py:117\u001b[0m, in \u001b[0;36mLinear.forward\u001b[1;34m(self, input)\u001b[0m\n\u001b[0;32m    116\u001b[0m \u001b[38;5;28;01mdef\u001b[39;00m\u001b[38;5;250m \u001b[39m\u001b[38;5;21mforward\u001b[39m(\u001b[38;5;28mself\u001b[39m, \u001b[38;5;28minput\u001b[39m: Tensor) \u001b[38;5;241m-\u001b[39m\u001b[38;5;241m>\u001b[39m Tensor:\n\u001b[1;32m--> 117\u001b[0m     \u001b[38;5;28;01mreturn\u001b[39;00m \u001b[43mF\u001b[49m\u001b[38;5;241;43m.\u001b[39;49m\u001b[43mlinear\u001b[49m\u001b[43m(\u001b[49m\u001b[38;5;28;43minput\u001b[39;49m\u001b[43m,\u001b[49m\u001b[43m \u001b[49m\u001b[38;5;28;43mself\u001b[39;49m\u001b[38;5;241;43m.\u001b[39;49m\u001b[43mweight\u001b[49m\u001b[43m,\u001b[49m\u001b[43m \u001b[49m\u001b[38;5;28;43mself\u001b[39;49m\u001b[38;5;241;43m.\u001b[39;49m\u001b[43mbias\u001b[49m\u001b[43m)\u001b[49m\n",
                        "\u001b[1;31mRuntimeError\u001b[0m: mat1 and mat2 shapes cannot be multiplied (12x3 and 768x768)"
                    ]
                }
            ],
            "source": [
                "batch_size, context_lenght, d_in = input_embeddings.shape \n",
                "d_out = d_in\n",
                "num_heads=12\n",
                "print(input_embeddings.shape, num_heads)\n",
                "mha = MultiHeadAttention(d_in, d_out, context_lenght, 0.0, num_heads)\n",
                "context_vec = mha(batch)\n",
                "\n",
                "print(context_vec, context_vec.shape)"
            ]
        }
    ],
    "metadata": {
        "kernelspec": {
            "display_name": "Python 3",
            "language": "python",
            "name": "python3"
        },
        "language_info": {
            "codemirror_mode": {
                "name": "ipython",
                "version": 3
            },
            "file_extension": ".py",
            "mimetype": "text/x-python",
            "name": "python",
            "nbconvert_exporter": "python",
            "pygments_lexer": "ipython3",
            "version": "3.9.23"
        }
    },
    "nbformat": 4,
    "nbformat_minor": 2
}
