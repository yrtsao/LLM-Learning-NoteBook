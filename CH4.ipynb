{
 "cells": [
  {
   "cell_type": "markdown",
   "id": "a146a48a",
   "metadata": {},
   "source": [
    "## GPT Frame\n"
   ]
  },
  {
   "cell_type": "code",
   "execution_count": 16,
   "id": "8be785fd",
   "metadata": {},
   "outputs": [
    {
     "name": "stdout",
     "output_type": "stream",
     "text": [
      "torch version: 2.4.0\n",
      "tiktoken version: 0.5.1\n"
     ]
    }
   ],
   "source": [
    "from importlib.metadata import version\n",
    "\n",
    "# print(\"matplotlib version:\", version(\"matplotlib\"))\n",
    "print(\"torch version:\", version(\"torch\"))\n",
    "print(\"tiktoken version:\", version(\"tiktoken\"))"
   ]
  },
  {
   "cell_type": "code",
   "execution_count": 17,
   "id": "0d9a6434",
   "metadata": {},
   "outputs": [],
   "source": [
    "GPT_CONFIG_124M = {\n",
    "    \"vocab_size\": 50257,\n",
    "    \"context_length\": 1024,\n",
    "    \"emb_dim\": 768,\n",
    "    \"n_heads\": 12,\n",
    "    \"n_layers\": 12,\n",
    "    \"drop_rate\": 0.1,\n",
    "    \"drop_rate_emb\": 0.1,\n",
    "    \"drop_rate_ShortCut\": 0.1,\n",
    "    \"drop_rate_mha\": 0.1,\n",
    "    \"qkv_bias\": False\n",
    "}"
   ]
  },
  {
   "cell_type": "code",
   "execution_count": 18,
   "id": "54fd112d",
   "metadata": {},
   "outputs": [
    {
     "name": "stdout",
     "output_type": "stream",
     "text": [
      "tensor([[6109, 3626, 6100,  345],\n",
      "        [6109, 1110, 6622,  257]])\n"
     ]
    }
   ],
   "source": [
    "import tiktoken\n",
    "import torch\n",
    "\n",
    "\n",
    "tokenizer = tiktoken.get_encoding(\"gpt2\")\n",
    "\n",
    "batch = []\n",
    "\n",
    "txt1 = \"Every effort moves you\"\n",
    "txt2 = \"Every day holds a\"\n",
    "\n",
    "batch.append(torch.tensor(tokenizer.encode(txt1)))\n",
    "batch.append(torch.tensor(tokenizer.encode(txt2)))\n",
    "batch = torch.stack(batch, dim=0)\n",
    "print(batch)"
   ]
  },
  {
   "cell_type": "code",
   "execution_count": 19,
   "id": "ac1dc78c",
   "metadata": {},
   "outputs": [],
   "source": [
    "import torch\n",
    "import torch.nn as nn\n",
    "\n",
    "# for GPT usage module\n",
    "\n",
    "# ________________For MHA \n",
    "class MultiHeadAttention(nn.Module):\n",
    "    def __init__(self, d_in, d_out, context_length, dropout, num_heads, qkv_bias = False):\n",
    "        super().__init__()\n",
    "        assert d_out % num_heads == 0, \"d_out must be divisible by num_heads\"\n",
    "\n",
    "        self.d_out = d_out\n",
    "        self.num_heads = num_heads\n",
    "        self.head_dim = d_out//num_heads\n",
    "        self.w_query = nn.Linear(d_in, d_out, bias=qkv_bias)\n",
    "        self.w_key = nn.Linear(d_in, d_out, bias=qkv_bias)\n",
    "        self.w_value = nn.Linear(d_in, d_out, bias=qkv_bias)\n",
    "        self.out_proj = nn.Linear(d_out, d_out)\n",
    "        self.dropout = nn.Dropout(dropout)\n",
    "        self.register_buffer('mask', torch.triu(torch.ones(context_length, context_length), diagonal=1))\n",
    "\n",
    "    def forward(self, x):\n",
    "        b, num_tokens, d_in = x.shape\n",
    "        keys = self.w_key(x)\n",
    "        queries = self.w_query(x)\n",
    "        values = self.w_value(x)\n",
    "\n",
    "        keys = keys.view(b, num_tokens, self.num_heads, self.head_dim)\n",
    "        values = values.view(b, num_tokens, self.num_heads, self.head_dim)\n",
    "        queries = queries.view(b, num_tokens, self.num_heads, self.head_dim)\n",
    "\n",
    "        keys = keys.transpose(1,2)\n",
    "        values = values.transpose(1,2)\n",
    "        queries = queries.transpose(1,2)\n",
    "\n",
    "        attn_scores = queries @ keys.transpose(2,3)\n",
    "        mask_bool= self.mask.bool() [:num_tokens, :num_tokens]\n",
    "        attn_scores.masked_fill_(mask_bool, -torch.inf)\n",
    "\n",
    "        attn_weights = torch.softmax(attn_scores/ keys.shape[-1]**0.5, dim=-1)\n",
    "        attn_weights = self.dropout(attn_weights)\n",
    "\n",
    "        context_vec = (attn_weights @ values).transpose(1,2)\n",
    "        context_vec = context_vec.contiguous().view(b,num_tokens, self.d_out)\n",
    "        context_vec = self.out_proj(context_vec)\n",
    "        return context_vec\n",
    "# ____________ For Transformer Black\n",
    "class LayerNorm(nn.Module): # 層歸一化類別\n",
    "    def __init__(self, emb_dim):\n",
    "        super().__init__()\n",
    "        self.eps = 1e-5\n",
    "        self.scale = nn.Parameter(torch.ones(emb_dim))\n",
    "        self.shift = nn.Parameter(torch.zeros(emb_dim))\n",
    "\n",
    "    def forward(self, x):\n",
    "        mean = x.mean(dim=-1, keepdim = True)\n",
    "        var = x.var(dim=-1, keepdim = True, unbiased = False)\n",
    "        norm_x = (x-mean)/ torch.sqrt(var + self.eps)\n",
    "        return self.scale*norm_x + self.shift # 讓模型能縮放跟偏移，以適應正在處理的資料\n",
    "    \n",
    "class GELU(nn.Module):\n",
    "    def __init__(self):\n",
    "        super().__init__()\n",
    "\n",
    "    def forward(self, x):\n",
    "        return 0.5* x * (1+torch.tanh(\n",
    "            torch.sqrt(torch.tensor(2.0/ torch.pi)) * (x +0.044715 * torch.pow(x, 3))\n",
    "        ))\n",
    "class FeedForward(nn.Module): # 前饋神經網路模組\n",
    "    def __init__(self, cfg):\n",
    "        super().__init__()\n",
    "        self.layers = nn.Sequential(\n",
    "            nn.Linear(cfg[\"emb_dim\"], 4*cfg[\"emb_dim\"]), \n",
    "            GELU(),\n",
    "            nn.Linear(4*cfg[\"emb_dim\"], cfg[\"emb_dim\"]), \n",
    "        )\n",
    "    def forward(self, x):\n",
    "        return self.layers(x)\n",
    "\n",
    "# ___________\n",
    "class TransformerBlock(nn.Module): #有包含殘差學習的一個多頭注意力機制和前饋神經網路  \n",
    "    def __init__(self, cfg):\n",
    "        super().__init__()\n",
    "        self.att = MultiHeadAttention(\n",
    "            d_in = cfg[\"emb_dim\"],\n",
    "            d_out = cfg[\"emb_dim\"],\n",
    "            context_length= cfg[\"context_length\"],\n",
    "            num_heads=cfg[\"n_heads\"],\n",
    "            dropout=cfg[\"drop_rate_mha\"],\n",
    "            qkv_bias=cfg[\"qkv_bias\"])\n",
    "        self.ff = FeedForward(cfg)\n",
    "        self.norm1=LayerNorm(cfg[\"emb_dim\"])\n",
    "        self.norm2=LayerNorm(cfg[\"emb_dim\"])\n",
    "        self.drop_shortcut = nn.Dropout(cfg[\"drop_rate_ShortCut\"])\n",
    "        \n",
    "    def forward(self, x):\n",
    "        shortcut = x\n",
    "        x = self.norm1(x)\n",
    "        x = self.att(x)\n",
    "        x = self.drop_shortcut(x)\n",
    "        x = x + shortcut # 殘差學習\n",
    "\n",
    "        shortcut = x\n",
    "        x = self.norm2(x)\n",
    "        x = self.ff(x)\n",
    "        x = self.drop_shortcut(x)       \n",
    "        x = x + shortcut\n",
    "        return x\n"
   ]
  },
  {
   "cell_type": "code",
   "execution_count": 20,
   "id": "dea08fe4",
   "metadata": {},
   "outputs": [],
   "source": [
    "\n",
    "# GPT Architecture\n",
    "\n",
    "class GPTModel(nn.Module):\n",
    "    def __init__(self, cfg):\n",
    "        super().__init__()\n",
    "        self.tok_emb = nn.Embedding(cfg[\"vocab_size\"], cfg[\"emb_dim\"])\n",
    "        self.pos_emb = nn.Embedding(cfg[\"context_length\"], cfg[\"emb_dim\"])\n",
    "        self.drop_emb = nn.Dropout(cfg[\"drop_rate_emb\"])\n",
    "\n",
    "        self.trf_blocks = nn.Sequential(*[TransformerBlock(cfg) for _ in range(cfg[\"n_layers\"])])\n",
    "        self.final_norm = LayerNorm(cfg[\"emb_dim\"])\n",
    "        self.out_head = nn.Linear(\n",
    "            cfg[\"emb_dim\"], cfg[\"vocab_size\"], bias = False\n",
    "        )\n",
    "    \n",
    "    def forward(self, in_idx):\n",
    "        batch_size, seq_len = in_idx.shape\n",
    "        tok_embeds = self.tok_emb(in_idx)\n",
    "\n",
    "        pos_embeds = self.pos_emb(\n",
    "            torch.arange(seq_len, device = in_idx.device)\n",
    "        )\n",
    "        x = tok_embeds + pos_embeds\n",
    "        x = self.drop_emb(x)\n",
    "        x = self.trf_blocks(x)\n",
    "        x = self.final_norm(x)\n",
    "        logits= self.out_head(x)\n",
    "        return logits"
   ]
  },
  {
   "cell_type": "code",
   "execution_count": 21,
   "id": "f4bfbe3a",
   "metadata": {},
   "outputs": [
    {
     "name": "stdout",
     "output_type": "stream",
     "text": [
      "tensor([[6109, 3626, 6100,  345],\n",
      "        [6109, 1110, 6622,  257]])\n",
      "torch.Size([2, 4, 50257])\n",
      "tensor([[[ 0.1381,  0.0077, -0.1963,  ..., -0.0222, -0.1060,  0.1717],\n",
      "         [ 0.3865, -0.8408, -0.6564,  ..., -0.5163,  0.2369, -0.3357],\n",
      "         [ 0.6989, -0.1829, -0.1631,  ...,  0.1472, -0.6504, -0.0056],\n",
      "         [-0.4290,  0.1669, -0.1258,  ...,  1.1579,  0.5303, -0.5549]],\n",
      "\n",
      "        [[ 0.1094, -0.2894, -0.1467,  ..., -0.0557,  0.2911, -0.2824],\n",
      "         [ 0.0882, -0.3552, -0.3527,  ...,  1.2930,  0.0053,  0.1898],\n",
      "         [ 0.6091,  0.4702, -0.4094,  ...,  0.7688,  0.3787, -0.1974],\n",
      "         [-0.0612, -0.0737,  0.4751,  ...,  1.2463, -0.3834,  0.0609]]],\n",
      "       grad_fn=<UnsafeViewBackward0>)\n"
     ]
    }
   ],
   "source": [
    "torch.manual_seed(123)\n",
    "\n",
    "# batch = torch.rand(2, 4, 768)\n",
    "model = GPTModel(GPT_CONFIG_124M)\n",
    "\n",
    "out = model(batch)\n",
    "print(batch)\n",
    "print(out.shape)\n",
    "print(out)"
   ]
  },
  {
   "cell_type": "markdown",
   "id": "dcee5cab",
   "metadata": {},
   "source": [
    "## HW4.1  "
   ]
  },
  {
   "cell_type": "code",
   "execution_count": 22,
   "id": "325faca4",
   "metadata": {},
   "outputs": [
    {
     "name": "stdout",
     "output_type": "stream",
     "text": [
      "TransformerBlock(\n",
      "  (att): MultiHeadAttention(\n",
      "    (w_query): Linear(in_features=768, out_features=768, bias=False)\n",
      "    (w_key): Linear(in_features=768, out_features=768, bias=False)\n",
      "    (w_value): Linear(in_features=768, out_features=768, bias=False)\n",
      "    (out_proj): Linear(in_features=768, out_features=768, bias=True)\n",
      "    (dropout): Dropout(p=0.1, inplace=False)\n",
      "  )\n",
      "  (ff): FeedForward(\n",
      "    (layers): Sequential(\n",
      "      (0): Linear(in_features=768, out_features=3072, bias=True)\n",
      "      (1): GELU()\n",
      "      (2): Linear(in_features=3072, out_features=768, bias=True)\n",
      "    )\n",
      "  )\n",
      "  (norm1): LayerNorm()\n",
      "  (norm2): LayerNorm()\n",
      "  (drop_shortcut): Dropout(p=0.1, inplace=False)\n",
      ")\n",
      "Total parameter of MHA:2,360,064\n",
      "Total parameter of ffn:4,722,432\n"
     ]
    }
   ],
   "source": [
    "\n",
    "tfb = TransformerBlock(GPT_CONFIG_124M)\n",
    "torch.manual_seed(123)\n",
    "print(tfb)\n",
    "\n",
    "\n",
    "mha_parameter = sum(m_p.numel() for m_p in tfb.att.parameters())\n",
    "ffn_parameter = sum(f_p.numel() for f_p in tfb.ff.parameters())\n",
    "\n",
    "print(f\"Total parameter of MHA:{mha_parameter:,}\")\n",
    "print(f\"Total parameter of ffn:{ffn_parameter:,}\")"
   ]
  },
  {
   "cell_type": "markdown",
   "id": "cf9dcea3",
   "metadata": {},
   "source": [
    "## HW4.2"
   ]
  },
  {
   "cell_type": "markdown",
   "id": "ef55009c",
   "metadata": {},
   "source": [
    "New GPT model config"
   ]
  },
  {
   "cell_type": "code",
   "execution_count": 41,
   "id": "216a7cbe",
   "metadata": {},
   "outputs": [
    {
     "name": "stdout",
     "output_type": "stream",
     "text": [
      "Total  GPT_CONFIG_samll  parameter:163,009,536\n",
      " Total GPT model_memory:621.83 MB\n",
      "Total  GPT_CONFIG_medium  parameter:406,212,608\n",
      " Total GPT model_memory:1,549.58 MB\n",
      "Total  GPT_CONFIG_large  parameter:838,220,800\n",
      " Total GPT model_memory:3,197.56 MB\n",
      "Total  GPT_CONFIG_XL  parameter:1,637,792,000\n",
      " Total GPT model_memory:6,247.68 MB\n"
     ]
    }
   ],
   "source": [
    "GPT_CONFIG_124M = {\n",
    "    \"vocab_size\": 50257,\n",
    "    \"context_length\": 1024,\n",
    "    \"emb_dim\": 768,\n",
    "    \"n_heads\": 12,\n",
    "    \"n_layers\": 12,\n",
    "    \"drop_rate_emb\": 0.1,\n",
    "    \"drop_rate_ShortCut\": 0.1,\n",
    "    \"drop_rate_mha\": 0.1,\n",
    "    \"qkv_bias\": False\n",
    "}\n",
    "\n",
    "def get_config(base_config, config_name  = \"GPT_CONFIG_samll\"):\n",
    "    GPT_config = base_config.copy()\n",
    "    if config_name == \"GPT_CONFIG_samll\":\n",
    "        GPT_config['emb_dim'] = 768\n",
    "        GPT_config['n_heads'] = 12\n",
    "        GPT_config['n_layers'] = 12\n",
    "        return GPT_config\n",
    "    elif config_name == \"GPT_CONFIG_medium\":\n",
    "        GPT_config['emb_dim'] = 1024\n",
    "        GPT_config['n_heads'] = 16\n",
    "        GPT_config['n_layers'] = 24\n",
    "        return GPT_config\n",
    "    elif config_name == \"GPT_CONFIG_large\":\n",
    "        GPT_config['emb_dim'] = 1280\n",
    "        GPT_config['n_heads'] = 20\n",
    "        GPT_config['n_layers'] = 36\n",
    "        return GPT_config\n",
    "    elif config_name == \"GPT_CONFIG_XL\":\n",
    "        GPT_config['emb_dim'] = 1600\n",
    "        GPT_config['n_heads'] = 25\n",
    "        GPT_config['n_layers'] = 48\n",
    "        return GPT_config\n",
    "    else:\n",
    "        print(\"Out of range.\")\n",
    "        return GPT_config\n",
    "        \n",
    "\n",
    "def caculate_parameter(model, config_name ):\n",
    "    model_parameter = sum(p.numel() for p in model.parameters())\n",
    "    model_parameter_final = model_parameter - sum(p.numel() for p in model.out_head.parameters())\n",
    "    model_memory = model_parameter*4/ (1024*1024)\n",
    "\n",
    "    print(\"Total \",config_name,f\" parameter:{model_parameter:,}\")\n",
    "    print(f\" Total GPT model_memory:{model_memory:,.2f} MB\")\n",
    "\n",
    "list_gpt = [\"GPT_CONFIG_samll\", \"GPT_CONFIG_medium\", \"GPT_CONFIG_large\", \"GPT_CONFIG_XL\"]\n",
    "base_config = GPT_CONFIG_124M\n",
    "\n",
    "\n",
    "for gpt_models in list_gpt:\n",
    "\n",
    "    pgt_config = get_config(base_config, gpt_models)\n",
    "    gpt_base_config = GPTModel(pgt_config)\n",
    "    caculate_parameter(gpt_base_config, gpt_models)"
   ]
  },
  {
   "cell_type": "code",
   "execution_count": 32,
   "id": "5484867a",
   "metadata": {},
   "outputs": [],
   "source": [
    "GPT_CONFIG_medium = {\n",
    "    \"vocab_size\": 50257,\n",
    "    \"context_length\": 1024,\n",
    "    \"emb_dim\": 1024,\n",
    "    \"n_heads\": 16,\n",
    "    \"n_layers\": 24,\n",
    "    \"drop_rate_emb\": 0.1,\n",
    "    \"drop_rate_ShortCut\": 0.1,\n",
    "    \"drop_rate_mha\": 0.1,\n",
    "    \"qkv_bias\": False\n",
    "}"
   ]
  },
  {
   "cell_type": "code",
   "execution_count": 34,
   "id": "97177b4f",
   "metadata": {},
   "outputs": [
    {
     "name": "stdout",
     "output_type": "stream",
     "text": [
      "Total GPT_CONFIG_medium parameter:406,212,608\n",
      " Total GPT model_memory:1,549.58 MB\n"
     ]
    }
   ],
   "source": [
    "torch.manual_seed(123)\n",
    "\n",
    "# batch = torch.rand(2, 4, 768)\n",
    "model = GPTModel(GPT_CONFIG_medium)\n",
    "\n",
    "model_parameter = sum(p.numel() for p in model.parameters())\n",
    "model_parameter_final = model_parameter - sum(p.numel() for p in model.out_head.parameters())\n",
    "model_memory = model_parameter*4/ (1024*1024)\n",
    "\n",
    "print(f\"Total GPT_CONFIG_medium parameter:{model_parameter:,}\")\n",
    "print(f\" Total GPT model_memory:{model_memory:,.2f} MB\")"
   ]
  },
  {
   "cell_type": "code",
   "execution_count": 25,
   "id": "3a2b0e95",
   "metadata": {},
   "outputs": [],
   "source": [
    "GPT_CONFIG_large = {\n",
    "    \"vocab_size\": 50257,\n",
    "    \"context_length\": 1024,\n",
    "    \"emb_dim\": 1280,\n",
    "    \"n_heads\": 20,\n",
    "    \"n_layers\": 36,\n",
    "    \"drop_rate_emb\": 0.1,\n",
    "    \"drop_rate_ShortCut\": 0.1,\n",
    "    \"drop_rate_mha\": 0.1,\n",
    "    \"qkv_bias\": False\n",
    "}"
   ]
  },
  {
   "cell_type": "code",
   "execution_count": 26,
   "id": "34bef9f6",
   "metadata": {},
   "outputs": [
    {
     "name": "stdout",
     "output_type": "stream",
     "text": [
      "Total GPT_CONFIG_large parameter of ffn:838,220,800\n"
     ]
    }
   ],
   "source": [
    "torch.manual_seed(123)\n",
    "\n",
    "# batch = torch.rand(2, 4, 768)\n",
    "model = GPTModel(GPT_CONFIG_large)\n",
    "\n",
    "model_parameter = sum(p.numel() for p in model.parameters())\n",
    "\n",
    "print(f\"Total GPT_CONFIG_large parameter of ffn:{model_parameter:,}\")"
   ]
  },
  {
   "cell_type": "code",
   "execution_count": 27,
   "id": "7a691d72",
   "metadata": {},
   "outputs": [],
   "source": [
    "GPT_CONFIG_XL = {\n",
    "    \"vocab_size\": 50257,\n",
    "    \"context_length\": 1024,\n",
    "    \"emb_dim\": 1600,\n",
    "    \"n_heads\": 25,\n",
    "    \"n_layers\": 48,\n",
    "    \"drop_rate_emb\": 0.1,\n",
    "    \"drop_rate_ShortCut\": 0.1,\n",
    "    \"drop_rate_mha\": 0.1,\n",
    "    \"qkv_bias\": False\n",
    "}"
   ]
  },
  {
   "cell_type": "code",
   "execution_count": 28,
   "id": "17da407d",
   "metadata": {},
   "outputs": [
    {
     "name": "stdout",
     "output_type": "stream",
     "text": [
      "Total GPT_CONFIG_XL parameter of ffn:1,637,792,000\n"
     ]
    }
   ],
   "source": [
    "torch.manual_seed(123)\n",
    "\n",
    "# batch = torch.rand(2, 4, 768)\n",
    "model = GPTModel(GPT_CONFIG_XL)\n",
    "\n",
    "model_parameter = sum(p.numel() for p in model.parameters())\n",
    "\n",
    "print(f\"Total GPT_CONFIG_XL parameter of ffn:{model_parameter:,}\")"
   ]
  }
 ],
 "metadata": {
  "kernelspec": {
   "display_name": "Python 3",
   "language": "python",
   "name": "python3"
  },
  "language_info": {
   "codemirror_mode": {
    "name": "ipython",
    "version": 3
   },
   "file_extension": ".py",
   "mimetype": "text/x-python",
   "name": "python",
   "nbconvert_exporter": "python",
   "pygments_lexer": "ipython3",
   "version": "3.9.23"
  }
 },
 "nbformat": 4,
 "nbformat_minor": 5
}
