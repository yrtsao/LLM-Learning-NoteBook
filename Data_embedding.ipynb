{
 "cells": [
  {
   "cell_type": "markdown",
   "id": "a6f787cd",
   "metadata": {},
   "source": [
    "CH2 Data Embedding"
   ]
  },
  {
   "cell_type": "markdown",
   "id": "d5e21fad",
   "metadata": {},
   "source": [
    "HomeWork2.1 Tokenize  \n",
    "Using BPE,byte pair encoding"
   ]
  },
  {
   "cell_type": "code",
   "execution_count": 19,
   "id": "cbd176a0",
   "metadata": {},
   "outputs": [
    {
     "name": "stdout",
     "output_type": "stream",
     "text": [
      "0.5.1\n"
     ]
    }
   ],
   "source": [
    "import tiktoken as tken\n",
    "from importlib.metadata import version\n",
    "\n",
    "print(version(\"tiktoken\"))"
   ]
  },
  {
   "cell_type": "code",
   "execution_count": 20,
   "id": "f8af2a8b",
   "metadata": {},
   "outputs": [
    {
     "name": "stdout",
     "output_type": "stream",
     "text": [
      "token id: [33901, 86, 343, 86, 220, 959]\n",
      "token docode Akwirw ier\n",
      "33901 Ak\n",
      "86 w\n",
      "343 ir\n",
      "86 w\n",
      "220  \n",
      "959 ier\n"
     ]
    }
   ],
   "source": [
    "tokenizer = tken.get_encoding(\"gpt2\")  #初始化tiktoken載入的model編碼方案 >> GPT2\n",
    "text = \"Akwirw ier\"\n",
    "unknown_vocab = tokenizer.encode(text)\n",
    "print(\"token id:\",unknown_vocab)\n",
    "unknown_vocab_ID = tokenizer.decode(unknown_vocab)\n",
    "print(\"token docode\", unknown_vocab_ID)\n",
    "for index in unknown_vocab:\n",
    "    # print(index)\n",
    "    unknown_index = tokenizer.decode([index])\n",
    "    print(index, unknown_index)\n"
   ]
  },
  {
   "cell_type": "markdown",
   "id": "1140e007",
   "metadata": {},
   "source": [
    "HW2.2 SlidingWindows  "
   ]
  },
  {
   "cell_type": "code",
   "execution_count": 21,
   "id": "04fd9917",
   "metadata": {},
   "outputs": [
    {
     "name": "stdout",
     "output_type": "stream",
     "text": [
      "Token ID:\n",
      " tensor([[   40,   367,  2885,  1464],\n",
      "        [ 1807,  3619,   402,   271],\n",
      "        [10899,  2138,   257,  7026],\n",
      "        [15632,   438,  2016,   257],\n",
      "        [  922,  5891,  1576,   438],\n",
      "        [  568,   340,   373,   645],\n",
      "        [ 1049,  5975,   284,   502],\n",
      "        [  284,  3285,   326,    11]])\n",
      "\n",
      "Inputs shape:\n",
      " torch.Size([8, 4])\n"
     ]
    }
   ],
   "source": [
    "import torch\n",
    "from torch.utils.data import Dataset, DataLoader\n",
    "import tiktoken as tken\n",
    "\n",
    "\n",
    "class GPTDataset_v1(Dataset):\n",
    "    def __init__(self, text, tokenizer, max_length, stride):\n",
    "        self.input_ids = []\n",
    "        self.targeet_ids = []\n",
    "        token_ids = tokenizer.encode(text)\n",
    "\n",
    "        for i in range(0, len(token_ids)-max_length, stride):\n",
    "            input_chunk = token_ids[i:i+max_length]\n",
    "            target_chunk = token_ids[i+1:i+1+max_length] \n",
    "            self.input_ids.append(torch.tensor(input_chunk))\n",
    "            self.targeet_ids.append(torch.tensor(target_chunk))\n",
    "\n",
    "    def __len__(self):\n",
    "        return len(self.input_ids)\n",
    "    \n",
    "    def __getitem__(self, index):   # 輸入指定位置的資料時，回傳相應的input與target\n",
    "        return self.input_ids[index], self.targeet_ids[index]\n",
    "    \n",
    "\n",
    "def crate_dataloader_v1(text, batch_size=4, max_length=256, stride=128, shuffle=True, drop_last=True, num_workers=0):\n",
    "    tokenizer = tken.get_encoding(\"gpt2\")\n",
    "    dataset = GPTDataset_v1(text, tokenizer, max_length, stride)\n",
    "    dataloader = DataLoader(\n",
    "        dataset, batch_size=batch_size, shuffle=shuffle, drop_last=drop_last, num_workers=0\n",
    "        )\n",
    "    return dataloader\n",
    "\n",
    "\n",
    "with open(\"the-verdict.txt\", \"r\", encoding=\"utf-8\") as f:\n",
    "    raw_text=f.read()\n",
    "\n",
    "dataloader = crate_dataloader_v1(raw_text, batch_size=8, max_length=4, stride=4, shuffle=False)\n",
    "data_iter= iter(dataloader)\n",
    "inputs, targets = next(data_iter)\n",
    "print(\"Token ID:\\n\", inputs)\n",
    "print(\"\\nInputs shape:\\n\", inputs.shape)\n",
    "\n"
   ]
  },
  {
   "cell_type": "markdown",
   "id": "b8942fcd",
   "metadata": {},
   "source": [
    "Embedding to torch (token and position)  \n",
    "for this case we will enbedding inputs to 256 dimenstion."
   ]
  },
  {
   "cell_type": "code",
   "execution_count": 22,
   "id": "f98252e5",
   "metadata": {},
   "outputs": [
    {
     "name": "stdout",
     "output_type": "stream",
     "text": [
      "torch.Size([8, 4, 256])\n"
     ]
    }
   ],
   "source": [
    "vocab_size = 50257\n",
    "output_dim = 256\n",
    "token_embedding_layer = torch.nn.Embedding(vocab_size, output_dim) #初始化設定embedding layer\n",
    "token_embeddings = token_embedding_layer(inputs) #輸入需嵌入的資料\n",
    "print(token_embeddings.shape)\n"
   ]
  },
  {
   "cell_type": "markdown",
   "id": "39223146",
   "metadata": {},
   "source": [
    "Embedding position   "
   ]
  },
  {
   "cell_type": "code",
   "execution_count": 23,
   "id": "b5219842",
   "metadata": {},
   "outputs": [
    {
     "name": "stdout",
     "output_type": "stream",
     "text": [
      "torch.Size([4, 256])\n"
     ]
    }
   ],
   "source": [
    "max_length = 4\n",
    "context_length = max_length\n",
    "pos_embedding_layer = torch.nn.Embedding(context_length, output_dim)\n",
    "pos_embeddings = pos_embedding_layer(torch.arange(context_length))\n",
    "print(pos_embeddings.shape)"
   ]
  },
  {
   "cell_type": "markdown",
   "id": "d069c6eb",
   "metadata": {},
   "source": [
    "Conbine token ID and position >>> Input Data"
   ]
  },
  {
   "cell_type": "code",
   "execution_count": 24,
   "id": "d1311763",
   "metadata": {},
   "outputs": [
    {
     "name": "stdout",
     "output_type": "stream",
     "text": [
      "torch.Size([8, 4, 256])\n"
     ]
    }
   ],
   "source": [
    "input_embeddings = token_embeddings + pos_embeddings\n",
    "print(input_embeddings.shape)"
   ]
  },
  {
   "cell_type": "markdown",
   "id": "66b25e67",
   "metadata": {},
   "source": [
    "Data Embedding whole process"
   ]
  },
  {
   "cell_type": "code",
   "execution_count": 2,
   "id": "7ff2a19a",
   "metadata": {},
   "outputs": [
    {
     "name": "stdout",
     "output_type": "stream",
     "text": [
      "torch.Size([8, 4, 256])\n",
      "torch.Size([4, 256])\n",
      "torch.Size([8, 4, 256])\n"
     ]
    }
   ],
   "source": [
    "import torch\n",
    "from torch.utils.data import Dataset, DataLoader\n",
    "import tiktoken as tken\n",
    "\n",
    "\n",
    "class GPTDataset_v1(Dataset):\n",
    "    def __init__(self, text, tokenizer, max_length, stride):\n",
    "        self.input_ids = []\n",
    "        self.targeet_ids = []\n",
    "        token_ids = tokenizer.encode(text)\n",
    "\n",
    "        for i in range(0, len(token_ids)-max_length, stride):\n",
    "            input_chunk = token_ids[i:i+max_length]\n",
    "            target_chunk = token_ids[i+1:i+1+max_length] \n",
    "            self.input_ids.append(torch.tensor(input_chunk))\n",
    "            self.targeet_ids.append(torch.tensor(target_chunk))\n",
    "\n",
    "    def __len__(self):\n",
    "        return len(self.input_ids)\n",
    "    \n",
    "    def __getitem__(self, index):   # 輸入指定位置的資料時，回傳相應的input與target\n",
    "        return self.input_ids[index], self.targeet_ids[index]\n",
    "    \n",
    "\n",
    "def crate_dataloader_v1(text, batch_size=4, max_length=256, stride=128, shuffle=True, drop_last=True, num_workers=0):\n",
    "    tokenizer = tken.get_encoding(\"gpt2\")\n",
    "    dataset = GPTDataset_v1(text, tokenizer, max_length, stride)\n",
    "    dataloader = DataLoader(\n",
    "        dataset, batch_size=batch_size, shuffle=shuffle, drop_last=drop_last, num_workers=0\n",
    "        )\n",
    "    return dataloader\n",
    "\n",
    "with open(\"the-verdict.txt\", \"r\", encoding=\"utf-8\") as f:\n",
    "    raw_text=f.read()\n",
    "\n",
    "dataloader = crate_dataloader_v1(raw_text, batch_size=8, max_length=4, stride=4, shuffle=False)\n",
    "data_iter= iter(dataloader)\n",
    "inputs, targets = next(data_iter)\n",
    "\n",
    "vocab_size = 50257\n",
    "output_dim = 256\n",
    "torch.manual_seed(123)\n",
    "\n",
    "token_embedding_layer = torch.nn.Embedding(vocab_size, output_dim) #初始化設定embedding layer\n",
    "token_embeddings = token_embedding_layer(inputs) #輸入需嵌入的資料\n",
    "print(token_embeddings.shape)\n",
    "\n",
    "max_length = 4\n",
    "context_length = max_length\n",
    "pos_embedding_layer = torch.nn.Embedding(context_length, output_dim)\n",
    "pos_embeddings = pos_embedding_layer(torch.arange(context_length))\n",
    "print(pos_embeddings.shape)\n",
    "\n",
    "input_embeddings = token_embeddings + pos_embeddings\n",
    "print(input_embeddings.shape)"
   ]
  }
 ],
 "metadata": {
  "kernelspec": {
   "display_name": "Python 3",
   "language": "python",
   "name": "python3"
  },
  "language_info": {
   "codemirror_mode": {
    "name": "ipython",
    "version": 3
   },
   "file_extension": ".py",
   "mimetype": "text/x-python",
   "name": "python",
   "nbconvert_exporter": "python",
   "pygments_lexer": "ipython3",
   "version": "3.9.23"
  }
 },
 "nbformat": 4,
 "nbformat_minor": 5
}
